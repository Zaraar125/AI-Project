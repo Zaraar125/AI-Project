{
 "cells": [
  {
   "cell_type": "code",
   "execution_count": 136,
   "id": "dcf58aa1",
   "metadata": {},
   "outputs": [],
   "source": [
    "import nltk\n",
    "import torch\n",
    "import pandas as pd\n",
    "import numpy as np\n",
    "import torch.nn as nn\n",
    "import torch.optim as optim\n",
    "from torchviz import make_dot\n",
    "import matplotlib.pyplot as plt\n",
    "from nltk.util import ngrams,pad_sequence\n",
    "from nltk.lm.preprocessing import pad_both_ends\n",
    "from torch.utils.data import Dataset, DataLoader\n",
    "from sklearn.metrics import classification_report\n",
    "from sentence_transformers import SentenceTransformer\n",
    "from sklearn.metrics import confusion_matrix, ConfusionMatrixDisplay"
   ]
  },
  {
   "cell_type": "code",
   "execution_count": 61,
   "id": "eff7138f",
   "metadata": {},
   "outputs": [
    {
     "name": "stdout",
     "output_type": "stream",
     "text": [
      "Collecting sentence_transformers\n",
      "  Using cached sentence_transformers-2.2.2-py3-none-any.whl\n",
      "Collecting torchvision\n",
      "  Using cached torchvision-0.15.2-cp39-cp39-win_amd64.whl (1.2 MB)\n",
      "Requirement already satisfied: tqdm in d:\\anaconda\\lib\\site-packages (from sentence_transformers) (4.64.1)\n",
      "Requirement already satisfied: nltk in d:\\anaconda\\lib\\site-packages (from sentence_transformers) (3.7)\n",
      "Requirement already satisfied: sentencepiece in d:\\anaconda\\lib\\site-packages (from sentence_transformers) (0.1.99)\n",
      "Requirement already satisfied: torch>=1.6.0 in d:\\anaconda\\lib\\site-packages (from sentence_transformers) (2.0.1)\n",
      "Requirement already satisfied: transformers<5.0.0,>=4.6.0 in d:\\anaconda\\lib\\site-packages (from sentence_transformers) (4.29.1)\n",
      "Requirement already satisfied: scikit-learn in d:\\anaconda\\lib\\site-packages (from sentence_transformers) (1.0.2)\n",
      "Requirement already satisfied: scipy in d:\\anaconda\\lib\\site-packages (from sentence_transformers) (1.9.1)\n",
      "Requirement already satisfied: huggingface-hub>=0.4.0 in d:\\anaconda\\lib\\site-packages (from sentence_transformers) (0.14.1)\n",
      "Requirement already satisfied: numpy in d:\\anaconda\\lib\\site-packages (from sentence_transformers) (1.21.5)\n",
      "Requirement already satisfied: fsspec in d:\\anaconda\\lib\\site-packages (from huggingface-hub>=0.4.0->sentence_transformers) (2022.7.1)\n",
      "Requirement already satisfied: filelock in d:\\anaconda\\lib\\site-packages (from huggingface-hub>=0.4.0->sentence_transformers) (3.6.0)\n",
      "Requirement already satisfied: requests in d:\\anaconda\\lib\\site-packages (from huggingface-hub>=0.4.0->sentence_transformers) (2.28.1)\n",
      "Requirement already satisfied: packaging>=20.9 in d:\\anaconda\\lib\\site-packages (from huggingface-hub>=0.4.0->sentence_transformers) (21.3)\n",
      "Requirement already satisfied: pyyaml>=5.1 in d:\\anaconda\\lib\\site-packages (from huggingface-hub>=0.4.0->sentence_transformers) (6.0)\n",
      "Requirement already satisfied: typing-extensions>=3.7.4.3 in d:\\anaconda\\lib\\site-packages (from huggingface-hub>=0.4.0->sentence_transformers) (4.3.0)\n",
      "Requirement already satisfied: networkx in d:\\anaconda\\lib\\site-packages (from torch>=1.6.0->sentence_transformers) (2.8.4)\n",
      "Requirement already satisfied: sympy in d:\\anaconda\\lib\\site-packages (from torch>=1.6.0->sentence_transformers) (1.10.1)\n",
      "Requirement already satisfied: jinja2 in d:\\anaconda\\lib\\site-packages (from torch>=1.6.0->sentence_transformers) (2.11.3)\n",
      "Requirement already satisfied: colorama in d:\\anaconda\\lib\\site-packages (from tqdm->sentence_transformers) (0.4.5)\n",
      "Requirement already satisfied: tokenizers!=0.11.3,<0.14,>=0.11.1 in d:\\anaconda\\lib\\site-packages (from transformers<5.0.0,>=4.6.0->sentence_transformers) (0.13.3)\n",
      "Requirement already satisfied: regex!=2019.12.17 in d:\\anaconda\\lib\\site-packages (from transformers<5.0.0,>=4.6.0->sentence_transformers) (2022.7.9)\n",
      "Requirement already satisfied: joblib in d:\\anaconda\\lib\\site-packages (from nltk->sentence_transformers) (1.1.0)\n",
      "Requirement already satisfied: click in d:\\anaconda\\lib\\site-packages (from nltk->sentence_transformers) (8.0.4)\n",
      "Requirement already satisfied: threadpoolctl>=2.0.0 in d:\\anaconda\\lib\\site-packages (from scikit-learn->sentence_transformers) (2.2.0)\n",
      "Requirement already satisfied: pillow!=8.3.*,>=5.3.0 in d:\\anaconda\\lib\\site-packages (from torchvision->sentence_transformers) (9.3.0)\n",
      "Requirement already satisfied: pyparsing!=3.0.5,>=2.0.2 in d:\\anaconda\\lib\\site-packages (from packaging>=20.9->huggingface-hub>=0.4.0->sentence_transformers) (3.0.9)\n",
      "Requirement already satisfied: MarkupSafe>=0.23 in d:\\anaconda\\lib\\site-packages (from jinja2->torch>=1.6.0->sentence_transformers) (2.0.1)\n",
      "Requirement already satisfied: urllib3<1.27,>=1.21.1 in d:\\anaconda\\lib\\site-packages (from requests->huggingface-hub>=0.4.0->sentence_transformers) (1.26.11)\n",
      "Requirement already satisfied: idna<4,>=2.5 in d:\\anaconda\\lib\\site-packages (from requests->huggingface-hub>=0.4.0->sentence_transformers) (3.3)\n",
      "Requirement already satisfied: charset-normalizer<3,>=2 in d:\\anaconda\\lib\\site-packages (from requests->huggingface-hub>=0.4.0->sentence_transformers) (2.0.4)\n",
      "Requirement already satisfied: certifi>=2017.4.17 in d:\\anaconda\\lib\\site-packages (from requests->huggingface-hub>=0.4.0->sentence_transformers) (2022.9.14)\n",
      "Requirement already satisfied: mpmath>=0.19 in d:\\anaconda\\lib\\site-packages (from sympy->torch>=1.6.0->sentence_transformers) (1.2.1)\n",
      "Installing collected packages: torchvision, sentence_transformers\n",
      "Successfully installed sentence_transformers-2.2.2 torchvision-0.15.2\n"
     ]
    }
   ],
   "source": [
    "!pip install sentence_transformers"
   ]
  },
  {
   "cell_type": "code",
   "execution_count": 12,
   "id": "ecea5776",
   "metadata": {},
   "outputs": [
    {
     "name": "stdout",
     "output_type": "stream",
     "text": [
      "Requirement already satisfied: nltk in d:\\anaconda\\lib\\site-packages (3.7)\n",
      "Requirement already satisfied: regex>=2021.8.3 in d:\\anaconda\\lib\\site-packages (from nltk) (2022.7.9)\n",
      "Requirement already satisfied: click in d:\\anaconda\\lib\\site-packages (from nltk) (8.0.4)\n",
      "Requirement already satisfied: tqdm in d:\\anaconda\\lib\\site-packages (from nltk) (4.64.1)\n",
      "Requirement already satisfied: joblib in d:\\anaconda\\lib\\site-packages (from nltk) (1.1.0)\n",
      "Requirement already satisfied: colorama in d:\\anaconda\\lib\\site-packages (from click->nltk) (0.4.5)\n",
      "Note: you may need to restart the kernel to use updated packages.\n"
     ]
    }
   ],
   "source": [
    "pip install nltk"
   ]
  },
  {
   "cell_type": "code",
   "execution_count": 63,
   "id": "d7c73571",
   "metadata": {},
   "outputs": [
    {
     "data": {
      "application/vnd.jupyter.widget-view+json": {
       "model_id": "1a1f57de90a841cea40950168a0f0669",
       "version_major": 2,
       "version_minor": 0
      },
      "text/plain": [
       "Downloading (…)5dded/.gitattributes:   0%|          | 0.00/1.18k [00:00<?, ?B/s]"
      ]
     },
     "metadata": {},
     "output_type": "display_data"
    },
    {
     "data": {
      "application/vnd.jupyter.widget-view+json": {
       "model_id": "3534e0240aed460e98fc573fa53cf5df",
       "version_major": 2,
       "version_minor": 0
      },
      "text/plain": [
       "Downloading (…)_Pooling/config.json:   0%|          | 0.00/190 [00:00<?, ?B/s]"
      ]
     },
     "metadata": {},
     "output_type": "display_data"
    },
    {
     "data": {
      "application/vnd.jupyter.widget-view+json": {
       "model_id": "c4da1f0224e845318ae90d32cf50c461",
       "version_major": 2,
       "version_minor": 0
      },
      "text/plain": [
       "Downloading (…)4d81d5dded/README.md:   0%|          | 0.00/10.6k [00:00<?, ?B/s]"
      ]
     },
     "metadata": {},
     "output_type": "display_data"
    },
    {
     "data": {
      "application/vnd.jupyter.widget-view+json": {
       "model_id": "c1995459cdd540a3a7ec381b0ce96eb2",
       "version_major": 2,
       "version_minor": 0
      },
      "text/plain": [
       "Downloading (…)81d5dded/config.json:   0%|          | 0.00/573 [00:00<?, ?B/s]"
      ]
     },
     "metadata": {},
     "output_type": "display_data"
    },
    {
     "data": {
      "application/vnd.jupyter.widget-view+json": {
       "model_id": "fb296110b52f4814838a76d41f328a2a",
       "version_major": 2,
       "version_minor": 0
      },
      "text/plain": [
       "Downloading (…)ce_transformers.json:   0%|          | 0.00/116 [00:00<?, ?B/s]"
      ]
     },
     "metadata": {},
     "output_type": "display_data"
    },
    {
     "data": {
      "application/vnd.jupyter.widget-view+json": {
       "model_id": "fbaa2b6b7dcd4b6ebc901f908b97a13b",
       "version_major": 2,
       "version_minor": 0
      },
      "text/plain": [
       "Downloading (…)ded/data_config.json:   0%|          | 0.00/39.3k [00:00<?, ?B/s]"
      ]
     },
     "metadata": {},
     "output_type": "display_data"
    },
    {
     "data": {
      "application/vnd.jupyter.widget-view+json": {
       "model_id": "a3ffeb2d57054b359be17d0bb9816763",
       "version_major": 2,
       "version_minor": 0
      },
      "text/plain": [
       "Downloading pytorch_model.bin:   0%|          | 0.00/134M [00:00<?, ?B/s]"
      ]
     },
     "metadata": {},
     "output_type": "display_data"
    },
    {
     "data": {
      "application/vnd.jupyter.widget-view+json": {
       "model_id": "2fc6b0692a8b4a3390823a6753b70221",
       "version_major": 2,
       "version_minor": 0
      },
      "text/plain": [
       "Downloading (…)nce_bert_config.json:   0%|          | 0.00/53.0 [00:00<?, ?B/s]"
      ]
     },
     "metadata": {},
     "output_type": "display_data"
    },
    {
     "data": {
      "application/vnd.jupyter.widget-view+json": {
       "model_id": "a78fa8a172354626952419a0b86b5b38",
       "version_major": 2,
       "version_minor": 0
      },
      "text/plain": [
       "Downloading (…)cial_tokens_map.json:   0%|          | 0.00/112 [00:00<?, ?B/s]"
      ]
     },
     "metadata": {},
     "output_type": "display_data"
    },
    {
     "data": {
      "application/vnd.jupyter.widget-view+json": {
       "model_id": "dc5b5f2c95c14497ade9b4958464592b",
       "version_major": 2,
       "version_minor": 0
      },
      "text/plain": [
       "Downloading (…)5dded/tokenizer.json:   0%|          | 0.00/466k [00:00<?, ?B/s]"
      ]
     },
     "metadata": {},
     "output_type": "display_data"
    },
    {
     "data": {
      "application/vnd.jupyter.widget-view+json": {
       "model_id": "34aae90b22cf496d887e364a857015c4",
       "version_major": 2,
       "version_minor": 0
      },
      "text/plain": [
       "Downloading (…)okenizer_config.json:   0%|          | 0.00/352 [00:00<?, ?B/s]"
      ]
     },
     "metadata": {},
     "output_type": "display_data"
    },
    {
     "data": {
      "application/vnd.jupyter.widget-view+json": {
       "model_id": "b5f2bcfca2664619a6918a7881e94c28",
       "version_major": 2,
       "version_minor": 0
      },
      "text/plain": [
       "Downloading (…)dded/train_script.py:   0%|          | 0.00/13.2k [00:00<?, ?B/s]"
      ]
     },
     "metadata": {},
     "output_type": "display_data"
    },
    {
     "data": {
      "application/vnd.jupyter.widget-view+json": {
       "model_id": "c018eab5961f4db4a2940bec2b2f1d13",
       "version_major": 2,
       "version_minor": 0
      },
      "text/plain": [
       "Downloading (…)4d81d5dded/vocab.txt:   0%|          | 0.00/232k [00:00<?, ?B/s]"
      ]
     },
     "metadata": {},
     "output_type": "display_data"
    },
    {
     "data": {
      "application/vnd.jupyter.widget-view+json": {
       "model_id": "030bdc934e0b42b4be85dfffec15c45e",
       "version_major": 2,
       "version_minor": 0
      },
      "text/plain": [
       "Downloading (…)1d5dded/modules.json:   0%|          | 0.00/349 [00:00<?, ?B/s]"
      ]
     },
     "metadata": {},
     "output_type": "display_data"
    }
   ],
   "source": [
    "model_text = SentenceTransformer('all-MiniLM-L12-v2')"
   ]
  },
  {
   "cell_type": "code",
   "execution_count": 2,
   "id": "ec58ade4",
   "metadata": {},
   "outputs": [
    {
     "name": "stderr",
     "output_type": "stream",
     "text": [
      "[nltk_data] Downloading package punkt to\n",
      "[nltk_data]     C:\\Users\\Dell\\AppData\\Roaming\\nltk_data...\n",
      "[nltk_data]   Package punkt is already up-to-date!\n"
     ]
    },
    {
     "data": {
      "text/plain": [
       "True"
      ]
     },
     "execution_count": 2,
     "metadata": {},
     "output_type": "execute_result"
    }
   ],
   "source": [
    "nltk.download('punkt')"
   ]
  },
  {
   "cell_type": "code",
   "execution_count": 124,
   "id": "be07f273",
   "metadata": {},
   "outputs": [
    {
     "name": "stdout",
     "output_type": "stream",
     "text": [
      "Collecting torchviz\n",
      "  Downloading torchviz-0.0.2.tar.gz (4.9 kB)\n",
      "  Preparing metadata (setup.py): started\n",
      "  Preparing metadata (setup.py): finished with status 'done'\n",
      "Requirement already satisfied: torch in d:\\anaconda\\lib\\site-packages (from torchviz) (2.0.1)\n",
      "Collecting graphviz\n",
      "  Downloading graphviz-0.20.1-py3-none-any.whl (47 kB)\n",
      "     -------------------------------------- 47.0/47.0 kB 123.9 kB/s eta 0:00:00\n",
      "Requirement already satisfied: jinja2 in d:\\anaconda\\lib\\site-packages (from torch->torchviz) (2.11.3)\n",
      "Requirement already satisfied: sympy in d:\\anaconda\\lib\\site-packages (from torch->torchviz) (1.10.1)\n",
      "Requirement already satisfied: typing-extensions in d:\\anaconda\\lib\\site-packages (from torch->torchviz) (4.3.0)\n",
      "Requirement already satisfied: networkx in d:\\anaconda\\lib\\site-packages (from torch->torchviz) (2.8.4)\n",
      "Requirement already satisfied: filelock in d:\\anaconda\\lib\\site-packages (from torch->torchviz) (3.6.0)\n",
      "Requirement already satisfied: MarkupSafe>=0.23 in d:\\anaconda\\lib\\site-packages (from jinja2->torch->torchviz) (2.0.1)\n",
      "Requirement already satisfied: mpmath>=0.19 in d:\\anaconda\\lib\\site-packages (from sympy->torch->torchviz) (1.2.1)\n",
      "Building wheels for collected packages: torchviz\n",
      "  Building wheel for torchviz (setup.py): started\n",
      "  Building wheel for torchviz (setup.py): finished with status 'done'\n",
      "  Created wheel for torchviz: filename=torchviz-0.0.2-py3-none-any.whl size=4131 sha256=2c95dddd1f7422f72d8fca3dc094248efc84e3878635db428863fb135d7b3622\n",
      "  Stored in directory: c:\\users\\dell\\appdata\\local\\pip\\cache\\wheels\\29\\65\\6e\\db2515eb1dc760fecd36b40d54df65c1e18534013f1c037e2e\n",
      "Successfully built torchviz\n",
      "Installing collected packages: graphviz, torchviz\n",
      "Successfully installed graphviz-0.20.1 torchviz-0.0.2\n"
     ]
    }
   ],
   "source": [
    "!pip install torchviz"
   ]
  },
  {
   "cell_type": "code",
   "execution_count": 2,
   "id": "10fa983d",
   "metadata": {},
   "outputs": [],
   "source": [
    "sentiment_csv=pd.read_csv(\"sentiment.csv\",index_col=0)\n",
    "sentiment_csv.drop(['imgid','filename','successful','sentiment'],axis=1,inplace=True)"
   ]
  },
  {
   "cell_type": "code",
   "execution_count": 3,
   "id": "f4094c46",
   "metadata": {},
   "outputs": [
    {
     "data": {
      "text/html": [
       "<div>\n",
       "<style scoped>\n",
       "    .dataframe tbody tr th:only-of-type {\n",
       "        vertical-align: middle;\n",
       "    }\n",
       "\n",
       "    .dataframe tbody tr th {\n",
       "        vertical-align: top;\n",
       "    }\n",
       "\n",
       "    .dataframe thead th {\n",
       "        text-align: right;\n",
       "    }\n",
       "</style>\n",
       "<table border=\"1\" class=\"dataframe\">\n",
       "  <thead>\n",
       "    <tr style=\"text-align: right;\">\n",
       "      <th></th>\n",
       "      <th>split</th>\n",
       "      <th>tokens</th>\n",
       "      <th>word_sentiment</th>\n",
       "      <th>raw</th>\n",
       "    </tr>\n",
       "  </thead>\n",
       "  <tbody>\n",
       "    <tr>\n",
       "      <th>0</th>\n",
       "      <td>train</td>\n",
       "      <td>['a', 'plate', 'of', 'delicious', 'food', 'inc...</td>\n",
       "      <td>[0.0, 0.0, 0.0, 1, 1, 0.0, 0.0, 0.0]</td>\n",
       "      <td>a plate of delicious food including French fries.</td>\n",
       "    </tr>\n",
       "    <tr>\n",
       "      <th>1</th>\n",
       "      <td>train</td>\n",
       "      <td>['french', 'fries', 'are', 'not', 'a', 'health...</td>\n",
       "      <td>[0.0, 0.0, 0.0, 0.0, 0.0, 1, 1, 0.0, 0.0, 0.0,...</td>\n",
       "      <td>French fries are not a healthy food but it is ...</td>\n",
       "    </tr>\n",
       "    <tr>\n",
       "      <th>2</th>\n",
       "      <td>train</td>\n",
       "      <td>['the', 'plate', 'has', 'one', 'of', 'my', 'fa...</td>\n",
       "      <td>[0.0, 0.0, 0.0, 0.0, 0.0, 0.0, 1, 1, 0.0, 0.0,...</td>\n",
       "      <td>The plate has one of my favorite foods on it, ...</td>\n",
       "    </tr>\n",
       "  </tbody>\n",
       "</table>\n",
       "</div>"
      ],
      "text/plain": [
       "   split                                             tokens  \\\n",
       "0  train  ['a', 'plate', 'of', 'delicious', 'food', 'inc...   \n",
       "1  train  ['french', 'fries', 'are', 'not', 'a', 'health...   \n",
       "2  train  ['the', 'plate', 'has', 'one', 'of', 'my', 'fa...   \n",
       "\n",
       "                                      word_sentiment  \\\n",
       "0               [0.0, 0.0, 0.0, 1, 1, 0.0, 0.0, 0.0]   \n",
       "1  [0.0, 0.0, 0.0, 0.0, 0.0, 1, 1, 0.0, 0.0, 0.0,...   \n",
       "2  [0.0, 0.0, 0.0, 0.0, 0.0, 0.0, 1, 1, 0.0, 0.0,...   \n",
       "\n",
       "                                                 raw  \n",
       "0  a plate of delicious food including French fries.  \n",
       "1  French fries are not a healthy food but it is ...  \n",
       "2  The plate has one of my favorite foods on it, ...  "
      ]
     },
     "execution_count": 3,
     "metadata": {},
     "output_type": "execute_result"
    }
   ],
   "source": [
    "sentiment_csv.head(3)"
   ]
  },
  {
   "cell_type": "code",
   "execution_count": 4,
   "id": "5eac4a89",
   "metadata": {},
   "outputs": [],
   "source": [
    "Train=sentiment_csv[sentiment_csv['split']=='train']\n",
    "Validate=sentiment_csv[sentiment_csv['split']=='val']\n",
    "Test=sentiment_csv[sentiment_csv['split']=='test']"
   ]
  },
  {
   "cell_type": "code",
   "execution_count": 5,
   "id": "f204307b",
   "metadata": {},
   "outputs": [
    {
     "name": "stderr",
     "output_type": "stream",
     "text": [
      "C:\\Users\\Dell\\AppData\\Local\\Temp\\ipykernel_18584\\1770475362.py:1: SettingWithCopyWarning: \n",
      "A value is trying to be set on a copy of a slice from a DataFrame\n",
      "\n",
      "See the caveats in the documentation: https://pandas.pydata.org/pandas-docs/stable/user_guide/indexing.html#returning-a-view-versus-a-copy\n",
      "  Train.drop('split',axis=1,inplace=True)\n",
      "C:\\Users\\Dell\\AppData\\Local\\Temp\\ipykernel_18584\\1770475362.py:2: SettingWithCopyWarning: \n",
      "A value is trying to be set on a copy of a slice from a DataFrame\n",
      "\n",
      "See the caveats in the documentation: https://pandas.pydata.org/pandas-docs/stable/user_guide/indexing.html#returning-a-view-versus-a-copy\n",
      "  Validate.drop('split',axis=1,inplace=True)\n",
      "C:\\Users\\Dell\\AppData\\Local\\Temp\\ipykernel_18584\\1770475362.py:3: SettingWithCopyWarning: \n",
      "A value is trying to be set on a copy of a slice from a DataFrame\n",
      "\n",
      "See the caveats in the documentation: https://pandas.pydata.org/pandas-docs/stable/user_guide/indexing.html#returning-a-view-versus-a-copy\n",
      "  Test.drop('split',axis=1,inplace=True)\n"
     ]
    }
   ],
   "source": [
    "Train.drop('split',axis=1,inplace=True)\n",
    "Validate.drop('split',axis=1,inplace=True)\n",
    "Test.drop('split',axis=1,inplace=True)"
   ]
  },
  {
   "cell_type": "code",
   "execution_count": 6,
   "id": "d08f0b29",
   "metadata": {},
   "outputs": [
    {
     "data": {
      "text/html": [
       "<div>\n",
       "<style scoped>\n",
       "    .dataframe tbody tr th:only-of-type {\n",
       "        vertical-align: middle;\n",
       "    }\n",
       "\n",
       "    .dataframe tbody tr th {\n",
       "        vertical-align: top;\n",
       "    }\n",
       "\n",
       "    .dataframe thead th {\n",
       "        text-align: right;\n",
       "    }\n",
       "</style>\n",
       "<table border=\"1\" class=\"dataframe\">\n",
       "  <thead>\n",
       "    <tr style=\"text-align: right;\">\n",
       "      <th></th>\n",
       "      <th>tokens</th>\n",
       "      <th>word_sentiment</th>\n",
       "      <th>raw</th>\n",
       "    </tr>\n",
       "  </thead>\n",
       "  <tbody>\n",
       "    <tr>\n",
       "      <th>0</th>\n",
       "      <td>['a', 'plate', 'of', 'delicious', 'food', 'inc...</td>\n",
       "      <td>[0.0, 0.0, 0.0, 1, 1, 0.0, 0.0, 0.0]</td>\n",
       "      <td>a plate of delicious food including French fries.</td>\n",
       "    </tr>\n",
       "    <tr>\n",
       "      <th>1</th>\n",
       "      <td>['french', 'fries', 'are', 'not', 'a', 'health...</td>\n",
       "      <td>[0.0, 0.0, 0.0, 0.0, 0.0, 1, 1, 0.0, 0.0, 0.0,...</td>\n",
       "      <td>French fries are not a healthy food but it is ...</td>\n",
       "    </tr>\n",
       "    <tr>\n",
       "      <th>2</th>\n",
       "      <td>['the', 'plate', 'has', 'one', 'of', 'my', 'fa...</td>\n",
       "      <td>[0.0, 0.0, 0.0, 0.0, 0.0, 0.0, 1, 1, 0.0, 0.0,...</td>\n",
       "      <td>The plate has one of my favorite foods on it, ...</td>\n",
       "    </tr>\n",
       "  </tbody>\n",
       "</table>\n",
       "</div>"
      ],
      "text/plain": [
       "                                              tokens  \\\n",
       "0  ['a', 'plate', 'of', 'delicious', 'food', 'inc...   \n",
       "1  ['french', 'fries', 'are', 'not', 'a', 'health...   \n",
       "2  ['the', 'plate', 'has', 'one', 'of', 'my', 'fa...   \n",
       "\n",
       "                                      word_sentiment  \\\n",
       "0               [0.0, 0.0, 0.0, 1, 1, 0.0, 0.0, 0.0]   \n",
       "1  [0.0, 0.0, 0.0, 0.0, 0.0, 1, 1, 0.0, 0.0, 0.0,...   \n",
       "2  [0.0, 0.0, 0.0, 0.0, 0.0, 0.0, 1, 1, 0.0, 0.0,...   \n",
       "\n",
       "                                                 raw  \n",
       "0  a plate of delicious food including French fries.  \n",
       "1  French fries are not a healthy food but it is ...  \n",
       "2  The plate has one of my favorite foods on it, ...  "
      ]
     },
     "execution_count": 6,
     "metadata": {},
     "output_type": "execute_result"
    }
   ],
   "source": [
    "Train.head(3)"
   ]
  },
  {
   "cell_type": "code",
   "execution_count": 7,
   "id": "0dcce272",
   "metadata": {},
   "outputs": [
    {
     "data": {
      "text/html": [
       "<div>\n",
       "<style scoped>\n",
       "    .dataframe tbody tr th:only-of-type {\n",
       "        vertical-align: middle;\n",
       "    }\n",
       "\n",
       "    .dataframe tbody tr th {\n",
       "        vertical-align: top;\n",
       "    }\n",
       "\n",
       "    .dataframe thead th {\n",
       "        text-align: right;\n",
       "    }\n",
       "</style>\n",
       "<table border=\"1\" class=\"dataframe\">\n",
       "  <thead>\n",
       "    <tr style=\"text-align: right;\">\n",
       "      <th></th>\n",
       "      <th>tokens</th>\n",
       "      <th>word_sentiment</th>\n",
       "      <th>raw</th>\n",
       "    </tr>\n",
       "  </thead>\n",
       "  <tbody>\n",
       "    <tr>\n",
       "      <th>0</th>\n",
       "      <td>['a', 'person', 'wearing', 'a', 'beautiful', '...</td>\n",
       "      <td>[0.0, 0.0, 0.0, 0.0, 1, 1, 0.0, 0.0, 0.0, 0.0,...</td>\n",
       "      <td>a person wearing a beautiful dress under an um...</td>\n",
       "    </tr>\n",
       "    <tr>\n",
       "      <th>1</th>\n",
       "      <td>['a', 'person', 'with', 'a', 'beautiful', 'dre...</td>\n",
       "      <td>[0.0, 0.0, 0.0, 0.0, 1, 1, 0.0, 0.0, 0.0, 0.0,...</td>\n",
       "      <td>A person with a beautiful dress with an umbrel...</td>\n",
       "    </tr>\n",
       "    <tr>\n",
       "      <th>2</th>\n",
       "      <td>['the', 'adorable', 'child', 'wears', 'a', 'pr...</td>\n",
       "      <td>[0.0, 1, 1, 0.0, 0.0, 1, 1, 0.0, 0.0, 0.0, 0.0...</td>\n",
       "      <td>The adorable child wears a pretty dress, that ...</td>\n",
       "    </tr>\n",
       "  </tbody>\n",
       "</table>\n",
       "</div>"
      ],
      "text/plain": [
       "                                              tokens  \\\n",
       "0  ['a', 'person', 'wearing', 'a', 'beautiful', '...   \n",
       "1  ['a', 'person', 'with', 'a', 'beautiful', 'dre...   \n",
       "2  ['the', 'adorable', 'child', 'wears', 'a', 'pr...   \n",
       "\n",
       "                                      word_sentiment  \\\n",
       "0  [0.0, 0.0, 0.0, 0.0, 1, 1, 0.0, 0.0, 0.0, 0.0,...   \n",
       "1  [0.0, 0.0, 0.0, 0.0, 1, 1, 0.0, 0.0, 0.0, 0.0,...   \n",
       "2  [0.0, 1, 1, 0.0, 0.0, 1, 1, 0.0, 0.0, 0.0, 0.0...   \n",
       "\n",
       "                                                 raw  \n",
       "0  a person wearing a beautiful dress under an um...  \n",
       "1  A person with a beautiful dress with an umbrel...  \n",
       "2  The adorable child wears a pretty dress, that ...  "
      ]
     },
     "execution_count": 7,
     "metadata": {},
     "output_type": "execute_result"
    }
   ],
   "source": [
    "Test.reset_index(drop=True,inplace=True)\n",
    "Test.head(3)"
   ]
  },
  {
   "cell_type": "code",
   "execution_count": 8,
   "id": "45e205d1",
   "metadata": {},
   "outputs": [
    {
     "data": {
      "text/html": [
       "<div>\n",
       "<style scoped>\n",
       "    .dataframe tbody tr th:only-of-type {\n",
       "        vertical-align: middle;\n",
       "    }\n",
       "\n",
       "    .dataframe tbody tr th {\n",
       "        vertical-align: top;\n",
       "    }\n",
       "\n",
       "    .dataframe thead th {\n",
       "        text-align: right;\n",
       "    }\n",
       "</style>\n",
       "<table border=\"1\" class=\"dataframe\">\n",
       "  <thead>\n",
       "    <tr style=\"text-align: right;\">\n",
       "      <th></th>\n",
       "      <th>tokens</th>\n",
       "      <th>word_sentiment</th>\n",
       "      <th>raw</th>\n",
       "    </tr>\n",
       "  </thead>\n",
       "  <tbody>\n",
       "    <tr>\n",
       "      <th>0</th>\n",
       "      <td>['a', 'nice', 'person', 'holds', 'a', 'flip', ...</td>\n",
       "      <td>[0.0, 1, 1, 0.0, 0.0, 0.0, 0.0, 0.0, 0.0, 0.0]</td>\n",
       "      <td>A nice person holds a flip phone displaying th...</td>\n",
       "    </tr>\n",
       "    <tr>\n",
       "      <th>1</th>\n",
       "      <td>['a', 'person', 'holding', 'a', 'cell', 'phone...</td>\n",
       "      <td>[0.0, 0.0, 0.0, 0.0, 0.0, 0.0, 0.0, 0.0, 1, 1]</td>\n",
       "      <td>A person holding a cell phone in their good hand.</td>\n",
       "    </tr>\n",
       "    <tr>\n",
       "      <th>2</th>\n",
       "      <td>['someones', 'right', 'hand', 'holding', 'up',...</td>\n",
       "      <td>[0.0, 1, 1, 0.0, 0.0, 0.0, 0.0, 0.0, 0.0, 0.0,...</td>\n",
       "      <td>Someone's right hand holding up a flip phone i...</td>\n",
       "    </tr>\n",
       "  </tbody>\n",
       "</table>\n",
       "</div>"
      ],
      "text/plain": [
       "                                              tokens  \\\n",
       "0  ['a', 'nice', 'person', 'holds', 'a', 'flip', ...   \n",
       "1  ['a', 'person', 'holding', 'a', 'cell', 'phone...   \n",
       "2  ['someones', 'right', 'hand', 'holding', 'up',...   \n",
       "\n",
       "                                      word_sentiment  \\\n",
       "0     [0.0, 1, 1, 0.0, 0.0, 0.0, 0.0, 0.0, 0.0, 0.0]   \n",
       "1     [0.0, 0.0, 0.0, 0.0, 0.0, 0.0, 0.0, 0.0, 1, 1]   \n",
       "2  [0.0, 1, 1, 0.0, 0.0, 0.0, 0.0, 0.0, 0.0, 0.0,...   \n",
       "\n",
       "                                                 raw  \n",
       "0  A nice person holds a flip phone displaying th...  \n",
       "1  A person holding a cell phone in their good hand.  \n",
       "2  Someone's right hand holding up a flip phone i...  "
      ]
     },
     "execution_count": 8,
     "metadata": {},
     "output_type": "execute_result"
    }
   ],
   "source": [
    "Validate.reset_index(drop=True,inplace=True)\n",
    "Validate.head(3)"
   ]
  },
  {
   "cell_type": "code",
   "execution_count": 9,
   "id": "e6ebee73",
   "metadata": {},
   "outputs": [],
   "source": [
    "def get_unique_dict(dataframe_pass):\n",
    "    \n",
    "    TOKENS=dataframe_pass.tokens\n",
    "    LABELS=dataframe_pass.word_sentiment\n",
    "    sentence_label={}\n",
    "    for i,j in zip(TOKENS,LABELS):\n",
    "            n_g=list(ngrams(pad_both_ends(eval(i), n=2),n=3))          # for list input\n",
    "            label = j.strip(\"[]\") \n",
    "            label= [int(float(x)) for x in label.split(\", \")]\n",
    "            for z,x in zip(n_g,label):\n",
    "                if z not in sentence_label.keys():\n",
    "                        sentence_label[z]=x\n",
    "    return sentence_label"
   ]
  },
  {
   "cell_type": "code",
   "execution_count": 11,
   "id": "5425c7ec",
   "metadata": {},
   "outputs": [],
   "source": [
    "Train_dict=get_unique_dict(Train)\n",
    "Val_dict=get_unique_dict(Validate)\n",
    "Test_dict=get_unique_dict(Test)"
   ]
  },
  {
   "cell_type": "code",
   "execution_count": 12,
   "id": "bca97468",
   "metadata": {},
   "outputs": [
    {
     "name": "stdout",
     "output_type": "stream",
     "text": [
      "Train :  31293\n",
      "Val :  7962\n",
      "Test :  24990\n"
     ]
    }
   ],
   "source": [
    "print(\"Train : \",len(Train_dict))\n",
    "print(\"Val : \",len(Val_dict))\n",
    "print(\"Test : \",len(Test_dict))"
   ]
  },
  {
   "cell_type": "code",
   "execution_count": 43,
   "id": "0558c67b",
   "metadata": {},
   "outputs": [],
   "source": [
    "temp_train= [(key, value) for key, value in Train_dict.items()]\n",
    "temp_val=[(key, value) for key, value in Val_dict.items()]\n",
    "temp_test=[(key, value) for key, value in Test_dict.items()]"
   ]
  },
  {
   "cell_type": "code",
   "execution_count": 44,
   "id": "a01eeeaf",
   "metadata": {},
   "outputs": [],
   "source": [
    "new_train=pd.DataFrame(temp_train,columns=['trigrams','sentiment'])\n",
    "new_val=pd.DataFrame(temp_val,columns=['trigrams','sentiment'])\n",
    "new_test=pd.DataFrame(temp_test,columns=['trigrams','sentiment'])"
   ]
  },
  {
   "cell_type": "code",
   "execution_count": 46,
   "id": "d1cfe73b",
   "metadata": {},
   "outputs": [
    {
     "data": {
      "text/html": [
       "<div>\n",
       "<style scoped>\n",
       "    .dataframe tbody tr th:only-of-type {\n",
       "        vertical-align: middle;\n",
       "    }\n",
       "\n",
       "    .dataframe tbody tr th {\n",
       "        vertical-align: top;\n",
       "    }\n",
       "\n",
       "    .dataframe thead th {\n",
       "        text-align: right;\n",
       "    }\n",
       "</style>\n",
       "<table border=\"1\" class=\"dataframe\">\n",
       "  <thead>\n",
       "    <tr style=\"text-align: right;\">\n",
       "      <th></th>\n",
       "      <th>trigrams</th>\n",
       "      <th>sentiment</th>\n",
       "    </tr>\n",
       "  </thead>\n",
       "  <tbody>\n",
       "    <tr>\n",
       "      <th>0</th>\n",
       "      <td>(&lt;s&gt;, a, plate)</td>\n",
       "      <td>0</td>\n",
       "    </tr>\n",
       "    <tr>\n",
       "      <th>1</th>\n",
       "      <td>(a, plate, of)</td>\n",
       "      <td>0</td>\n",
       "    </tr>\n",
       "    <tr>\n",
       "      <th>2</th>\n",
       "      <td>(plate, of, delicious)</td>\n",
       "      <td>0</td>\n",
       "    </tr>\n",
       "  </tbody>\n",
       "</table>\n",
       "</div>"
      ],
      "text/plain": [
       "                 trigrams  sentiment\n",
       "0         (<s>, a, plate)          0\n",
       "1          (a, plate, of)          0\n",
       "2  (plate, of, delicious)          0"
      ]
     },
     "execution_count": 46,
     "metadata": {},
     "output_type": "execute_result"
    }
   ],
   "source": [
    "new_train.head(3)"
   ]
  },
  {
   "cell_type": "code",
   "execution_count": 47,
   "id": "6ef21cd1",
   "metadata": {},
   "outputs": [
    {
     "data": {
      "text/html": [
       "<div>\n",
       "<style scoped>\n",
       "    .dataframe tbody tr th:only-of-type {\n",
       "        vertical-align: middle;\n",
       "    }\n",
       "\n",
       "    .dataframe tbody tr th {\n",
       "        vertical-align: top;\n",
       "    }\n",
       "\n",
       "    .dataframe thead th {\n",
       "        text-align: right;\n",
       "    }\n",
       "</style>\n",
       "<table border=\"1\" class=\"dataframe\">\n",
       "  <thead>\n",
       "    <tr style=\"text-align: right;\">\n",
       "      <th></th>\n",
       "      <th>trigrams</th>\n",
       "      <th>sentiment</th>\n",
       "    </tr>\n",
       "  </thead>\n",
       "  <tbody>\n",
       "    <tr>\n",
       "      <th>0</th>\n",
       "      <td>(&lt;s&gt;, a, nice)</td>\n",
       "      <td>0</td>\n",
       "    </tr>\n",
       "    <tr>\n",
       "      <th>1</th>\n",
       "      <td>(a, nice, person)</td>\n",
       "      <td>1</td>\n",
       "    </tr>\n",
       "    <tr>\n",
       "      <th>2</th>\n",
       "      <td>(nice, person, holds)</td>\n",
       "      <td>1</td>\n",
       "    </tr>\n",
       "  </tbody>\n",
       "</table>\n",
       "</div>"
      ],
      "text/plain": [
       "                trigrams  sentiment\n",
       "0         (<s>, a, nice)          0\n",
       "1      (a, nice, person)          1\n",
       "2  (nice, person, holds)          1"
      ]
     },
     "execution_count": 47,
     "metadata": {},
     "output_type": "execute_result"
    }
   ],
   "source": [
    "new_val.head(3)"
   ]
  },
  {
   "cell_type": "code",
   "execution_count": 48,
   "id": "8a121072",
   "metadata": {},
   "outputs": [
    {
     "data": {
      "text/html": [
       "<div>\n",
       "<style scoped>\n",
       "    .dataframe tbody tr th:only-of-type {\n",
       "        vertical-align: middle;\n",
       "    }\n",
       "\n",
       "    .dataframe tbody tr th {\n",
       "        vertical-align: top;\n",
       "    }\n",
       "\n",
       "    .dataframe thead th {\n",
       "        text-align: right;\n",
       "    }\n",
       "</style>\n",
       "<table border=\"1\" class=\"dataframe\">\n",
       "  <thead>\n",
       "    <tr style=\"text-align: right;\">\n",
       "      <th></th>\n",
       "      <th>trigrams</th>\n",
       "      <th>sentiment</th>\n",
       "    </tr>\n",
       "  </thead>\n",
       "  <tbody>\n",
       "    <tr>\n",
       "      <th>0</th>\n",
       "      <td>(&lt;s&gt;, a, person)</td>\n",
       "      <td>0</td>\n",
       "    </tr>\n",
       "    <tr>\n",
       "      <th>1</th>\n",
       "      <td>(a, person, wearing)</td>\n",
       "      <td>0</td>\n",
       "    </tr>\n",
       "    <tr>\n",
       "      <th>2</th>\n",
       "      <td>(person, wearing, a)</td>\n",
       "      <td>0</td>\n",
       "    </tr>\n",
       "  </tbody>\n",
       "</table>\n",
       "</div>"
      ],
      "text/plain": [
       "               trigrams  sentiment\n",
       "0      (<s>, a, person)          0\n",
       "1  (a, person, wearing)          0\n",
       "2  (person, wearing, a)          0"
      ]
     },
     "execution_count": 48,
     "metadata": {},
     "output_type": "execute_result"
    }
   ],
   "source": [
    "new_test.head(3)"
   ]
  },
  {
   "cell_type": "code",
   "execution_count": 75,
   "id": "872d4858",
   "metadata": {},
   "outputs": [],
   "source": [
    "class Personal_Text_Dataset(Dataset):\n",
    "    def __init__(self, frame ):\n",
    "        self.dataframe=frame\n",
    "    def __len__(self):\n",
    "        return len(self.dataframe)\n",
    "\n",
    "    def __getitem__(self, idx):\n",
    "        tuple_value,label= self.dataframe.iloc[idx]\n",
    "        tuple_value=\" \".join(tuple_value)\n",
    "        sentence_embedding=torch.tensor(model_text.encode(tuple_value))\n",
    "        label_tensor=torch.tensor(label,dtype=torch.long)\n",
    "\n",
    "        return sentence_embedding,label_tensor"
   ]
  },
  {
   "cell_type": "code",
   "execution_count": 82,
   "id": "dbcf3667",
   "metadata": {},
   "outputs": [],
   "source": [
    "Train_data=Personal_Text_Dataset(new_train)\n",
    "Val_data=Personal_Text_Dataset(new_val)\n",
    "Test_data=Personal_Text_Dataset(new_test)"
   ]
  },
  {
   "cell_type": "code",
   "execution_count": 93,
   "id": "b7e80a04",
   "metadata": {},
   "outputs": [],
   "source": [
    "train_loader=DataLoader(dataset=Train_data,batch_size=64,shuffle=True)\n",
    "validate_loader=DataLoader(dataset=Val_data,batch_size=64,shuffle=False)\n",
    "test_loader=DataLoader(dataset=Test_data,batch_size=64,shuffle=False)"
   ]
  },
  {
   "cell_type": "code",
   "execution_count": 97,
   "id": "0292ff23",
   "metadata": {},
   "outputs": [],
   "source": [
    "class Personal_Text_Classifier(nn.Module):\n",
    "    def __init__(self):\n",
    "        super(Personal_Text_Classifier, self).__init__()\n",
    "        self.relu = nn.ReLU()\n",
    "        self.sig=nn.Sigmoid()\n",
    "\n",
    "        \n",
    "\n",
    "        self.text_l1=nn.Linear(384,150)\n",
    "        self.text_l2=nn.Linear(150,90)\n",
    "        self.text_l3=nn.Linear(90,40)\n",
    "        self.text_l4=nn.Linear(40,10)\n",
    "\n",
    "        self.output=nn.Linear(10,1)\n",
    "\n",
    "              \n",
    "    def forward(self, y):\n",
    "\n",
    "        y=self.text_l1(y)\n",
    "        y=self.relu(y)\n",
    "\n",
    "\n",
    "        y=self.text_l2(y)\n",
    "        y=self.relu(y)\n",
    "\n",
    "        y=self.text_l3(y)\n",
    "        y=self.relu(y)\n",
    "        \n",
    "        y=self.text_l4(y)\n",
    "        y=self.relu(y)\n",
    "        \n",
    "        answer=self.output(y)\n",
    "        answer=self.sig(answer)\n",
    "        \n",
    "        return answer"
   ]
  },
  {
   "cell_type": "code",
   "execution_count": 106,
   "id": "5a271c08",
   "metadata": {},
   "outputs": [],
   "source": [
    "Model= Personal_Text_Classifier()\n",
    "\n",
    "criterion = nn.BCELoss()\n",
    "optimizer = optim.Adam(Model.parameters(), lr=0.001)"
   ]
  },
  {
   "cell_type": "code",
   "execution_count": 107,
   "id": "bacc3771",
   "metadata": {},
   "outputs": [
    {
     "name": "stdout",
     "output_type": "stream",
     "text": [
      "1  Batch loss :  0.766\n",
      "51  Batch loss :  0.437\n",
      "101  Batch loss :  0.343\n",
      "151  Batch loss :  0.227\n",
      "201  Batch loss :  0.299\n",
      "251  Batch loss :  0.366\n",
      "301  Batch loss :  0.175\n",
      "351  Batch loss :  0.137\n",
      "401  Batch loss :  0.243\n",
      "451  Batch loss :  0.166\n",
      "\n",
      "Train loss :  0.273\n",
      "Train accuracy :  85.9 \n",
      "\n",
      "\n",
      "Val loss :  0.042\n",
      "Val accuracy :  94.0 \n",
      "\n",
      "1  Batch loss :  0.109\n",
      "51  Batch loss :  0.181\n",
      "101  Batch loss :  0.13\n",
      "151  Batch loss :  0.102\n",
      "201  Batch loss :  0.041\n",
      "251  Batch loss :  0.058\n",
      "301  Batch loss :  0.082\n",
      "351  Batch loss :  0.077\n",
      "401  Batch loss :  0.227\n",
      "451  Batch loss :  0.13\n",
      "\n",
      "Train loss :  0.15\n",
      "Train accuracy :  94.7 \n",
      "\n",
      "\n",
      "Val loss :  0.035\n",
      "Val accuracy :  95.5 \n",
      "\n"
     ]
    }
   ],
   "source": [
    "epochs=2\n",
    "n_batch_loss=[]\n",
    "for epoch in range(epochs):\n",
    "    running_loss = 0.0\n",
    "    total_train = 0\n",
    "    correct_train = 0\n",
    "    model.train()\n",
    "    for i, batch in enumerate(train_loader):\n",
    "        text,labels = batch  \n",
    "        \n",
    "        optimizer.zero_grad()\n",
    "\n",
    "        outputs = Model(text)\n",
    "\n",
    "        labels = labels.unsqueeze(1)\n",
    "        labels=labels.float()\n",
    "\n",
    "        loss = criterion(outputs,labels)\n",
    "        \n",
    "\n",
    "        loss.backward()\n",
    "        optimizer.step()\n",
    "        \n",
    "        running_loss += loss.item()\n",
    "        outputs=torch.round(outputs)\n",
    "\n",
    "        correct_train=correct_train + torch.eq(outputs,labels).sum()\n",
    "        total_train=total_train+labels.size(0)\n",
    "        if i%50==0:\n",
    "              print(i+1,\" Batch loss : \",round(loss.item(),3))\n",
    "              n_batch_loss.append(round(loss.item(),3))\n",
    "    print(\"\\nTrain loss : \",round(running_loss/len(train_loader),3))\n",
    "    print(\"Train accuracy : \",round(correct_train.item()/total_train*100,1),\"\\n\")\n",
    "    model.eval()\n",
    "    with torch.no_grad():\n",
    "      running_loss=0\n",
    "      correct_train=0\n",
    "      total_train=0\n",
    "      for i,batch in enumerate(validate_loader):\n",
    "          text,labels=batch\n",
    "\n",
    "          outputs = Model(text)\n",
    "            \n",
    "          labels = labels.unsqueeze(1)\n",
    "          labels=labels.float()\n",
    "            \n",
    "          loss=criterion(outputs,labels)\n",
    "        \n",
    "          running_loss += loss.item()\n",
    "            \n",
    "          outputs=torch.round(outputs)\n",
    "          total_train+=labels.size(0)\n",
    "            \n",
    "            \n",
    "          correct_train=correct_train + torch.eq(outputs,labels).sum()\n",
    "        \n",
    "        \n",
    "    print(\"\\nVal loss : \",round(running_loss/len(train_loader),3))\n",
    "    print(\"Val accuracy : \",round(correct_train.item()/total_train*100,1),\"\\n\")\n",
    "            "
   ]
  },
  {
   "cell_type": "code",
   "execution_count": 135,
   "id": "41669739",
   "metadata": {},
   "outputs": [
    {
     "name": "stdout",
     "output_type": "stream",
     "text": [
      "1  Batch loss :  0.098\n",
      "51  Batch loss :  0.098\n",
      "101  Batch loss :  0.109\n",
      "151  Batch loss :  0.106\n",
      "201  Batch loss :  0.19\n",
      "251  Batch loss :  0.286\n",
      "301  Batch loss :  0.07\n",
      "351  Batch loss :  0.13\n",
      "\n",
      "Test loss :  0.114\n",
      "Test accuracy :  95.2 \n",
      "\n"
     ]
    }
   ],
   "source": [
    "predicted_labels=[]\n",
    "true_labels=[]\n",
    "model.eval()\n",
    "with torch.no_grad():\n",
    "  running_loss=0\n",
    "  correct_train=0\n",
    "  total_train=0\n",
    "  for i,batch in enumerate(test_loader):\n",
    "      text,labels=batch\n",
    "\n",
    "      outputs = Model(text)\n",
    "        \n",
    "      labels = labels.unsqueeze(1)\n",
    "      labels=labels.float()\n",
    "        \n",
    "      loss=criterion(outputs,labels)\n",
    "      running_loss += loss.item()\n",
    "     \n",
    "      total_train+=labels.size(0)\n",
    "      outputs=torch.round(outputs)\n",
    "      \n",
    "      predicted_labels.append(outputs)\n",
    "      true_labels.append(labels)\n",
    "      correct_train=correct_train + torch.eq(outputs,labels).sum()\n",
    "      if i%50==0:\n",
    "              print(i+1,\" Batch loss : \",round(loss.item(),3))\n",
    "print(\"\\nTest loss : \",round(running_loss/len(train_loader),3))\n",
    "print(\"Test accuracy : \",round(correct_train.item()/total_train*100,1),\"\\n\")"
   ]
  },
  {
   "cell_type": "code",
   "execution_count": 137,
   "id": "389bd233",
   "metadata": {},
   "outputs": [],
   "source": [
    "answer=predicted_labels[0]\n",
    "for i in predicted_labels[1:]:\n",
    "  answer=torch.cat([answer,i])"
   ]
  },
  {
   "cell_type": "code",
   "execution_count": 138,
   "id": "8b1627ed",
   "metadata": {},
   "outputs": [],
   "source": [
    "true=true_labels[0]\n",
    "for i in true_labels[1:]:\n",
    "  true=torch.cat([true,i])"
   ]
  },
  {
   "cell_type": "code",
   "execution_count": 139,
   "id": "8d71853f",
   "metadata": {},
   "outputs": [],
   "source": [
    "answer=answer.squeeze(1)\n",
    "true=true.squeeze(1)"
   ]
  },
  {
   "cell_type": "code",
   "execution_count": 140,
   "id": "8f541792",
   "metadata": {},
   "outputs": [
    {
     "name": "stdout",
     "output_type": "stream",
     "text": [
      "              precision    recall  f1-score   support\n",
      "\n",
      "         0.0       0.97      0.97      0.97     20165\n",
      "         1.0       0.88      0.87      0.88      4825\n",
      "\n",
      "    accuracy                           0.95     24990\n",
      "   macro avg       0.92      0.92      0.92     24990\n",
      "weighted avg       0.95      0.95      0.95     24990\n",
      "\n"
     ]
    }
   ],
   "source": [
    "print(classification_report(true,answer))"
   ]
  },
  {
   "cell_type": "code",
   "execution_count": 142,
   "id": "1c790c28",
   "metadata": {},
   "outputs": [
    {
     "data": {
      "image/png": "[encoded data removed]",
      "text/plain": [
       "<Figure size 640x480 with 2 Axes>"
      ]
     },
     "metadata": {},
     "output_type": "display_data"
    }
   ],
   "source": [
    "matrix=confusion_matrix(true,answer,labels=[0,1])\n",
    "show=ConfusionMatrixDisplay(confusion_matrix=matrix,display_labels=[0,1])\n",
    "show.plot()\n",
    "plt.show()"
   ]
  },
  {
   "cell_type": "code",
   "execution_count": 116,
   "id": "84624eb0",
   "metadata": {},
   "outputs": [],
   "source": [
    "torch.save(model.state_dict(),\"Text_Classifier.pt\")"
   ]
  },
  {
   "cell_type": "code",
   "execution_count": 117,
   "id": "300a0e2b",
   "metadata": {},
   "outputs": [],
   "source": [
    "model_1=Text_Image_Classifier()"
   ]
  },
  {
   "cell_type": "code",
   "execution_count": 118,
   "id": "96f85fc8",
   "metadata": {},
   "outputs": [
    {
     "data": {
      "text/plain": [
       "<All keys matched successfully>"
      ]
     },
     "execution_count": 118,
     "metadata": {},
     "output_type": "execute_result"
    }
   ],
   "source": [
    "model_1.load_state_dict(torch.load('Text_Classifier.pt'))"
   ]
  }
 ],
 "metadata": {
  "kernelspec": {
   "display_name": "Python 3 (ipykernel)",
   "language": "python",
   "name": "python3"
  },
  "language_info": {
   "codemirror_mode": {
    "name": "ipython",
    "version": 3
   },
   "file_extension": ".py",
   "mimetype": "text/x-python",
   "name": "python",
   "nbconvert_exporter": "python",
   "pygments_lexer": "ipython3",
   "version": "3.9.13"
  }
 },
 "nbformat": 4,
 "nbformat_minor": 5
}
